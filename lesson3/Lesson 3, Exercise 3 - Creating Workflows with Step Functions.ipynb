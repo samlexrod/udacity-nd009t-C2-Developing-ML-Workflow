{
 "cells": [
  {
   "cell_type": "markdown",
   "id": "c5dc198f",
   "metadata": {},
   "source": [
    "# UDACITY Designing Your First Workflow - Step Functions"
   ]
  },
  {
   "cell_type": "markdown",
   "id": "a00c09c5",
   "metadata": {},
   "source": [
    "## Step Functions & SageMaker"
   ]
  },
  {
   "cell_type": "markdown",
   "id": "2c2a5b51",
   "metadata": {},
   "source": [
    "In the prior exercises, we've been working with many small services. This can be overwhelming for a data scientist that wants to establish a consistent methodology for handling data. Step Functions is an orchestration service that can allow us to utilize SageMaker in a methodical and consistent way. Step Functions also integrates with Lambda, which can allow us to potentially automate our entire machine learning pipeline end-to-end. Let's get a handle on what a 'step' in a step function looks like.\n",
    "\n",
    "In this exercise, you will create a preprocessing step and a training step. Then you will create a step function to chain the two steps."
   ]
  },
  {
   "cell_type": "markdown",
   "id": "3e5c1c6b",
   "metadata": {},
   "source": [
    "## Exercise: Grant Permissions and install packages."
   ]
  },
  {
   "cell_type": "markdown",
   "id": "1d76a91b",
   "metadata": {},
   "source": [
    "Attach the IAMFullAccess and the StepFunctionsFullAccess polices to your SageMaker execution role."
   ]
  },
  {
   "cell_type": "code",
   "execution_count": 1,
   "id": "981094fe",
   "metadata": {},
   "outputs": [],
   "source": [
    "%%bash\n",
    "pip install stepfunctions -q"
   ]
  },
  {
   "cell_type": "markdown",
   "id": "2980c12c",
   "metadata": {},
   "source": [
    "## Exercise: Fill out preprocessing step."
   ]
  },
  {
   "cell_type": "markdown",
   "id": "752d3b79",
   "metadata": {},
   "source": [
    "The 'step' interface is designed to be quite similar to the Preprocessing Job in lesson 2. The main difference between these is the ability of a 'step' to interface with other steps. Given the successful outcome of a single step, the next step specified in a workflow will automatically continue. In our case, a training step will launch given the successful outcome of a preprocessing step. The preprocessing step has been encoded for you. Upload the preprocessing code 'HelloBlazePreprocess.py' and the zipped dataset 'reviews_Musical_Instruments_5.json.zip' to s3, and fill out the constants in the code below. "
   ]
  },
  {
   "cell_type": "markdown",
   "id": "0df2f1ac",
   "metadata": {},
   "source": [
    "Code below is the preprocessing step. Fill in the constants in the code."
   ]
  },
  {
   "cell_type": "code",
   "execution_count": 2,
   "id": "cdc72248-a8c3-427b-b3d2-d0c3d99e4d10",
   "metadata": {},
   "outputs": [],
   "source": [
    "import boto3\n",
    "s3 = boto3.client(\"s3\")\n",
    "s3.upload_file(\n",
    "    \"HelloBlazePreprocess.py\",\n",
    "    Bucket=\"udacity-landingzone\",\n",
    "    Key=\"lesson3-stepfunction/script/HelloBlazePreprocess.py\")"
   ]
  },
  {
   "cell_type": "code",
   "execution_count": 3,
   "id": "9d82815d",
   "metadata": {},
   "outputs": [
    {
     "name": "stdout",
     "output_type": "stream",
     "text": [
      "sagemaker.config INFO - Not applying SDK defaults from location: /etc/xdg/sagemaker/config.yaml\n",
      "sagemaker.config INFO - Not applying SDK defaults from location: /home/sagemaker-user/.config/sagemaker/config.yaml\n"
     ]
    }
   ],
   "source": [
    "from sagemaker import get_execution_role\n",
    "from sagemaker.sklearn.processing import SKLearnProcessor\n",
    "from sagemaker.processing import ProcessingInput, ProcessingOutput\n",
    "from stepfunctions.steps.sagemaker import ProcessingStep\n",
    "import sagemaker\n",
    "import time\n",
    "\n",
    "role = get_execution_role()\n",
    "\n",
    "timestamp = int(time.time())\n",
    "PREPROCESSING_JOB_NAME = f\"PreprocessingJob-{timestamp}\"\n",
    "TRAINING_JOB_NAME = f\"TrainingJob-{timestamp}\"\n",
    "\n",
    "input_data = 's3://udacity-landingzone/lesson3-stepfunction/input/Toys_and_Games_5.json.zip'\n",
    "input_preprocessing_code = 's3://udacity-landingzone/lesson3-stepfunction/script/HelloBlazePreprocess.py'\n",
    "sess = sagemaker.Session()\n",
    "\n",
    "sklearn_processor = SKLearnProcessor(framework_version='0.20.0',\n",
    "                                     role=role,\n",
    "                                     instance_type='ml.m5.large',\n",
    "                                     instance_count=1)\n",
    "\n",
    "\n",
    "training_bucket = 'udacity-landingzone'\n",
    "suffix = \"lesson3-stepfunction/output/\"\n",
    "processed_data_train = \"{}{}/{}\".format(\"s3://\", training_bucket, suffix + \"Toys_and_Games_5.json.zip_train\")\n",
    "processed_data_test = \"{}{}/{}\".format(\"s3://\", training_bucket, suffix + \"Toys_and_Games_5.json.zip_test\")\n",
    "\n",
    "inputs=[\n",
    "    ProcessingInput(\n",
    "        source=input_data, \n",
    "        destination='/opt/ml/processing/input', \n",
    "        input_name = 'input-1'),  \n",
    "    ProcessingInput(\n",
    "        source=input_preprocessing_code , \n",
    "        destination='/opt/ml/processing/input/script', \n",
    "        input_name = 'code')]\n",
    "\n",
    "\n",
    "outputs=[\n",
    "    ProcessingOutput(\n",
    "        source='/opt/ml/processing/output/train', \n",
    "        destination=processed_data_train, \n",
    "        output_name = 'train_data'), \n",
    "    ProcessingOutput(\n",
    "        source='/opt/ml/processing/output/test', \n",
    "        destination=processed_data_test, \n",
    "        output_name = 'test_data')\n",
    "]\n",
    "\n",
    "\n",
    "processing_step = ProcessingStep(\n",
    "    \"SageMaker pre-processing step 4\",\n",
    "    processor=sklearn_processor,\n",
    "    job_name=PREPROCESSING_JOB_NAME,\n",
    "    inputs=inputs,\n",
    "    outputs=outputs,\n",
    "    container_entrypoint=[\"python3\", \"/opt/ml/processing/input/script/HelloBlazePreprocess.py\"]\n",
    ")\n"
   ]
  },
  {
   "cell_type": "markdown",
   "id": "5048e4f3",
   "metadata": {},
   "source": [
    "## Exercise: Fill out Training Step"
   ]
  },
  {
   "cell_type": "markdown",
   "id": "a904f213",
   "metadata": {},
   "source": [
    "Upon the success of the preprocessing step, we wish to execute a training step. A training step is defined below. Fill the constants in the code."
   ]
  },
  {
   "cell_type": "code",
   "execution_count": 4,
   "id": "a7b7118c",
   "metadata": {},
   "outputs": [],
   "source": [
    "from stepfunctions.steps.sagemaker import TrainingStep\n",
    "import boto3\n",
    "\n",
    "WORKFLOW_OUTPUT = \"s3://udacity-landingzone/lesson3-stepfunction/workflow/\"\n",
    "\n",
    "region_name = boto3.Session().region_name\n",
    "container = sagemaker.image_uris.retrieve(\n",
    "    region=region_name, framework=\"blazingtext\", version=\"latest\"\n",
    ")\n",
    "\n",
    "helloBlazeEstimator = sagemaker.estimator.Estimator(\n",
    "    container,\n",
    "    role=role,\n",
    "    instance_count=1,\n",
    "    instance_type='ml.m5.large',\n",
    "    volume_size=30,\n",
    "    max_run=360000,\n",
    "    input_mode=\"File\",\n",
    "    output_path=WORKFLOW_OUTPUT,\n",
    "    sagemaker_session=sess,\n",
    ")\n",
    "\n",
    "helloBlazeEstimator.set_hyperparameters(mode='supervised')\n",
    "\n",
    "training_step = TrainingStep(\n",
    "    \"SageMaker Training Step\",\n",
    "    estimator=helloBlazeEstimator,\n",
    "    data={\n",
    "        \"train\": sagemaker.TrainingInput(processed_data_train, content_type=\"text/plain\"), \n",
    "        \"validation\": sagemaker.TrainingInput(processed_data_test, content_type=\"text/plain\")},\n",
    "    job_name=TRAINING_JOB_NAME,\n",
    "    wait_for_completion=True,\n",
    ")"
   ]
  },
  {
   "cell_type": "markdown",
   "id": "672f280c",
   "metadata": {},
   "source": [
    "## Exercise: Create Workflow & Execute It. "
   ]
  },
  {
   "cell_type": "markdown",
   "id": "4c549f3b",
   "metadata": {},
   "source": [
    "To link the steps, you'll need to create a role that is capable of doing so. Go to IAM and create a Step Functions role, and attach the CloudWatchEventsFullAccess and SageMakerFullAccess policies. Once done, make use of the above steps to create a workflow. Quick debugging tip: jobs must have a unique name; you'll need to rename job names when debugging. Consider creating a method that will dynamically create unique job names! "
   ]
  },
  {
   "cell_type": "code",
   "execution_count": 5,
   "id": "c897bcb0-544d-4b2c-a461-ef7d398a2f06",
   "metadata": {},
   "outputs": [
    {
     "name": "stdout",
     "output_type": "stream",
     "text": [
      "PreprocessingJob-1728097683\n",
      "TrainingJob-1728097683\n"
     ]
    }
   ],
   "source": [
    "print(PREPROCESSING_JOB_NAME)\n",
    "print(TRAINING_JOB_NAME)"
   ]
  },
  {
   "cell_type": "code",
   "execution_count": 6,
   "id": "c4c39201",
   "metadata": {},
   "outputs": [
    {
     "name": "stdout",
     "output_type": "stream",
     "text": [
      "Attaching to existing workflow: workflow-stepfunction-processing\n",
      "Updated workflow with logging: {'updateDate': datetime.datetime(2024, 10, 5, 3, 8, 4, 812000, tzinfo=tzlocal()), 'revisionId': 'c4627de5-8453-4245-89cc-c584c3618618', 'ResponseMetadata': {'RequestId': '56a22035-e0de-4c2e-9803-b6bee7b3809e', 'HTTPStatusCode': 200, 'HTTPHeaders': {'x-amzn-requestid': '56a22035-e0de-4c2e-9803-b6bee7b3809e', 'date': 'Sat, 05 Oct 2024 03:08:04 GMT', 'content-type': 'application/x-amz-json-1.0', 'content-length': '83', 'connection': 'keep-alive'}, 'RetryAttempts': 0}}\n"
     ]
    }
   ],
   "source": [
    "import boto3\n",
    "from stepfunctions.steps import Chain\n",
    "from stepfunctions.workflow import Workflow\n",
    "import time\n",
    "\n",
    "workflow_role = \"arn:aws:iam::002427974286:role/UdacitySageMakerStepFunctionExecutionRole\"\n",
    "workflow_name = \"workflow-stepfunction-processing\"  # This is the state machine name\n",
    "\n",
    "# CloudWatch Logs configuration\n",
    "log_group_arn = \"arn:aws:logs:us-east-1:002427974286:log-group:/aws/vendedlogs/states/workflow-stepfunction-processing-Logs:*\"  # Replace with your log group ARN\n",
    "\n",
    "logging_configuration = {\n",
    "    \"level\": \"ALL\",  # Log levels: ALL, ERROR, FATAL\n",
    "    \"includeExecutionData\": True,\n",
    "    \"destinations\": [\n",
    "        {\n",
    "            \"cloudWatchLogsLogGroup\": {\n",
    "                \"logGroupArn\": log_group_arn\n",
    "            }\n",
    "        }\n",
    "    ]\n",
    "}\n",
    "\n",
    "# Create boto3 client for Step Functions\n",
    "sfn_client = boto3.client('stepfunctions')\n",
    "\n",
    "# Check if the workflow (state machine) already exists\n",
    "def get_existing_workflow_arn(name):\n",
    "    state_machines = sfn_client.list_state_machines()[\"stateMachines\"]\n",
    "    for sm in state_machines:\n",
    "        if sm[\"name\"] == name:\n",
    "            return sm[\"stateMachineArn\"]\n",
    "    return None\n",
    "\n",
    "# Define the workflow graph\n",
    "workflow_graph = Chain([processing_step, training_step])\n",
    "\n",
    "# Check if workflow exists, get its ARN if it exists\n",
    "workflow_arn = get_existing_workflow_arn(workflow_name)\n",
    "\n",
    "# Create or update the workflow\n",
    "if workflow_arn:\n",
    "    print(f\"Attaching to existing workflow: {workflow_name}\")\n",
    "    # Attach to the existing workflow using its ARN\n",
    "    workflow = Workflow.attach(workflow_arn)\n",
    "    # Update the workflow definition using the Workflow object\n",
    "    workflow.update(definition=workflow_graph, role=workflow_role)\n",
    "    \n",
    "    # Update logging configuration via boto3 client\n",
    "    response = sfn_client.update_state_machine(\n",
    "        stateMachineArn=workflow_arn,\n",
    "        loggingConfiguration=logging_configuration\n",
    "    )\n",
    "    print(f\"Updated workflow with logging: {response}\")\n",
    "else:\n",
    "    print(f\"Creating new workflow: {workflow_name}\")\n",
    "    # Create a new workflow\n",
    "    workflow = Workflow(\n",
    "        name=workflow_name,\n",
    "        definition=workflow_graph,\n",
    "        role=workflow_role,\n",
    "    )\n",
    "    workflow.create()\n",
    "    \n",
    "    # Add logging configuration after creating the workflow via boto3 client\n",
    "    workflow_arn = workflow.arn\n",
    "    response = sfn_client.update_state_machine(\n",
    "        stateMachineArn=workflow_arn,\n",
    "        loggingConfiguration=logging_configuration\n",
    "    )\n",
    "    print(f\"Created workflow with logging: {response}\")\n",
    "\n",
    "# Execute the workflow with unique job names\n",
    "execution = workflow.execute(\n",
    "    inputs={\n",
    "        \"PreprocessingJobName\": PREPROCESSING_JOB_NAME,\n",
    "        \"TrainingJobName\": TRAINING_JOB_NAME\n",
    "    }\n",
    ")\n",
    "\n",
    "execution_output = execution.get_output(wait=True)\n"
   ]
  },
  {
   "cell_type": "markdown",
   "id": "d49a3122",
   "metadata": {},
   "source": [
    "You can track the outcome of this workflow through a custom UI that gets generated! Check it out!"
   ]
  },
  {
   "cell_type": "code",
   "execution_count": 7,
   "id": "c81e08b9",
   "metadata": {},
   "outputs": [
    {
     "data": {
      "text/html": [
       "\n",
       "<link rel=\"stylesheet\" type=\"text/css\" href=\"https://do0of8uwbahzz.cloudfront.net/graph.css\">\n",
       "<div id=\"graph-734\" class=\"workflowgraph\">\n",
       "    \n",
       "    <style>\n",
       "        .graph-legend ul {\n",
       "            list-style-type: none;\n",
       "            padding: 10px;\n",
       "            padding-left: 0;\n",
       "            margin: 0;\n",
       "            position: absolute;\n",
       "            top: 0;\n",
       "            background: transparent;\n",
       "        }\n",
       "\n",
       "        .graph-legend li {\n",
       "            margin-left: 10px;\n",
       "            display: inline-block;\n",
       "        }\n",
       "\n",
       "        .graph-legend li > div {\n",
       "            width: 10px;\n",
       "            height: 10px;\n",
       "            display: inline-block;\n",
       "        }\n",
       "\n",
       "        .graph-legend .success { background-color: #2BD62E }\n",
       "        .graph-legend .failed { background-color: #DE322F }\n",
       "        .graph-legend .cancelled { background-color: #DDDDDD }\n",
       "        .graph-legend .in-progress { background-color: #53C9ED }\n",
       "        .graph-legend .caught-error { background-color: #FFA500 }\n",
       "    </style>\n",
       "    <div class=\"graph-legend\">\n",
       "        <ul>\n",
       "            <li>\n",
       "                <div class=\"success\"></div>\n",
       "                <span>Success</span>\n",
       "            </li>\n",
       "            <li>\n",
       "                <div class=\"failed\"></div>\n",
       "                <span>Failed</span>\n",
       "            </li>\n",
       "            <li>\n",
       "                <div class=\"cancelled\"></div>\n",
       "                <span>Cancelled</span>\n",
       "            </li>\n",
       "            <li>\n",
       "                <div class=\"in-progress\"></div>\n",
       "                <span>In Progress</span>\n",
       "            </li>\n",
       "            <li>\n",
       "                <div class=\"caught-error\"></div>\n",
       "                <span>Caught Error</span>\n",
       "            </li>\n",
       "        </ul>\n",
       "    </div>\n",
       "\n",
       "    <svg></svg>\n",
       "    <a href=\"https://console.aws.amazon.com/states/home?region=us-east-1#/executions/details/arn:aws:states:us-east-1:002427974286:execution:workflow-stepfunction-processing:fa6701a7-ba4f-4420-b0f1-094055bb7d5e\" target=\"_blank\"> Inspect in AWS Step Functions </a>\n",
       "</div>\n",
       "\n",
       "<script type=\"text/javascript\">\n",
       "\n",
       "require.config({\n",
       "    paths: {\n",
       "        sfn: \"https://do0of8uwbahzz.cloudfront.net/sfn\",\n",
       "    }\n",
       "});\n",
       "\n",
       "require(['sfn'], function(sfn) {\n",
       "    var element = document.getElementById('graph-734')\n",
       "\n",
       "    var options = {\n",
       "        width: parseFloat(getComputedStyle(element, null).width.replace(\"px\", \"\")),\n",
       "        height: 1000,\n",
       "        layout: 'LR',\n",
       "        resizeHeight: true\n",
       "    };\n",
       "\n",
       "    var definition = {\"StartAt\": \"SageMaker pre-processing step 4\", \"States\": {\"SageMaker pre-processing step 4\": {\"Resource\": \"arn:aws:states:::sagemaker:createProcessingJob.sync\", \"Parameters\": {\"ProcessingJobName\": \"PreprocessingJob-1728097683\", \"ProcessingInputs\": [{\"InputName\": \"input-1\", \"AppManaged\": false, \"S3Input\": {\"S3Uri\": \"s3://udacity-landingzone/lesson3-stepfunction/input/Toys_and_Games_5.json.zip\", \"LocalPath\": \"/opt/ml/processing/input\", \"S3DataType\": \"S3Prefix\", \"S3InputMode\": \"File\", \"S3DataDistributionType\": \"FullyReplicated\", \"S3CompressionType\": \"None\"}}, {\"InputName\": \"code\", \"AppManaged\": false, \"S3Input\": {\"S3Uri\": \"s3://udacity-landingzone/lesson3-stepfunction/script/HelloBlazePreprocess.py\", \"LocalPath\": \"/opt/ml/processing/input/script\", \"S3DataType\": \"S3Prefix\", \"S3InputMode\": \"File\", \"S3DataDistributionType\": \"FullyReplicated\", \"S3CompressionType\": \"None\"}}], \"ProcessingOutputConfig\": {\"Outputs\": [{\"OutputName\": \"train_data\", \"AppManaged\": false, \"S3Output\": {\"S3Uri\": \"s3://udacity-landingzone/lesson3-stepfunction/output/Toys_and_Games_5.json.zip_train\", \"LocalPath\": \"/opt/ml/processing/output/train\", \"S3UploadMode\": \"EndOfJob\"}}, {\"OutputName\": \"test_data\", \"AppManaged\": false, \"S3Output\": {\"S3Uri\": \"s3://udacity-landingzone/lesson3-stepfunction/output/Toys_and_Games_5.json.zip_test\", \"LocalPath\": \"/opt/ml/processing/output/test\", \"S3UploadMode\": \"EndOfJob\"}}]}, \"AppSpecification\": {\"ImageUri\": \"683313688378.dkr.ecr.us-east-1.amazonaws.com/sagemaker-scikit-learn:0.20.0-cpu-py3\", \"ContainerEntrypoint\": [\"python3\", \"/opt/ml/processing/input/script/HelloBlazePreprocess.py\"]}, \"RoleArn\": \"arn:aws:iam::002427974286:role/UdacitySageMakerStepFunctionExecutionRole\", \"ProcessingResources\": {\"ClusterConfig\": {\"InstanceCount\": 1, \"InstanceType\": \"ml.m5.large\", \"VolumeSizeInGB\": 30}}}, \"Type\": \"Task\", \"Next\": \"SageMaker Training Step\"}, \"SageMaker Training Step\": {\"Resource\": \"arn:aws:states:::sagemaker:createTrainingJob.sync\", \"Parameters\": {\"AlgorithmSpecification\": {\"TrainingImage\": \"811284229777.dkr.ecr.us-east-1.amazonaws.com/blazingtext:1\", \"TrainingInputMode\": \"File\"}, \"OutputDataConfig\": {\"S3OutputPath\": \"s3://udacity-landingzone/lesson3-stepfunction/workflow/\"}, \"StoppingCondition\": {\"MaxRuntimeInSeconds\": 360000}, \"ResourceConfig\": {\"VolumeSizeInGB\": 30, \"InstanceCount\": 1, \"InstanceType\": \"ml.m5.large\"}, \"RoleArn\": \"arn:aws:iam::002427974286:role/UdacitySageMakerStepFunctionExecutionRole\", \"InputDataConfig\": [{\"DataSource\": {\"S3DataSource\": {\"S3DataType\": \"S3Prefix\", \"S3Uri\": \"s3://udacity-landingzone/lesson3-stepfunction/output/Toys_and_Games_5.json.zip_train\", \"S3DataDistributionType\": \"FullyReplicated\"}}, \"ContentType\": \"text/plain\", \"ChannelName\": \"train\"}, {\"DataSource\": {\"S3DataSource\": {\"S3DataType\": \"S3Prefix\", \"S3Uri\": \"s3://udacity-landingzone/lesson3-stepfunction/output/Toys_and_Games_5.json.zip_test\", \"S3DataDistributionType\": \"FullyReplicated\"}}, \"ContentType\": \"text/plain\", \"ChannelName\": \"validation\"}], \"HyperParameters\": {\"mode\": \"supervised\"}, \"TrainingJobName\": \"TrainingJob-1728097683\", \"DebugHookConfig\": {\"S3OutputPath\": \"s3://udacity-landingzone/lesson3-stepfunction/workflow/\"}}, \"Type\": \"Task\", \"End\": true}}};\n",
       "    var elementId = '#graph-734';\n",
       "    var events = { 'events': [{\"timestamp\": 1728097684.942, \"type\": \"ExecutionStarted\", \"id\": 1, \"previousEventId\": 0, \"executionStartedEventDetails\": {\"input\": \"{\\n    \\\"PreprocessingJobName\\\": \\\"PreprocessingJob-1728097683\\\",\\n    \\\"TrainingJobName\\\": \\\"TrainingJob-1728097683\\\"\\n}\", \"inputDetails\": {\"truncated\": false}, \"roleArn\": \"arn:aws:iam::002427974286:role/UdacitySageMakerStepFunctionExecutionRole\"}}, {\"timestamp\": 1728097684.973, \"type\": \"TaskStateEntered\", \"id\": 2, \"previousEventId\": 0, \"stateEnteredEventDetails\": {\"name\": \"SageMaker pre-processing step 4\", \"input\": \"{\\n    \\\"PreprocessingJobName\\\": \\\"PreprocessingJob-1728097683\\\",\\n    \\\"TrainingJobName\\\": \\\"TrainingJob-1728097683\\\"\\n}\", \"inputDetails\": {\"truncated\": false}}}, {\"timestamp\": 1728097684.973, \"type\": \"TaskScheduled\", \"id\": 3, \"previousEventId\": 2, \"taskScheduledEventDetails\": {\"resourceType\": \"sagemaker\", \"resource\": \"createProcessingJob.sync\", \"region\": \"us-east-1\", \"parameters\": \"{\\\"ProcessingJobName\\\":\\\"PreprocessingJob-1728097683\\\",\\\"ProcessingInputs\\\":[{\\\"InputName\\\":\\\"input-1\\\",\\\"AppManaged\\\":false,\\\"S3Input\\\":{\\\"S3Uri\\\":\\\"s3://udacity-landingzone/lesson3-stepfunction/input/Toys_and_Games_5.json.zip\\\",\\\"LocalPath\\\":\\\"/opt/ml/processing/input\\\",\\\"S3DataType\\\":\\\"S3Prefix\\\",\\\"S3InputMode\\\":\\\"File\\\",\\\"S3DataDistributionType\\\":\\\"FullyReplicated\\\",\\\"S3CompressionType\\\":\\\"None\\\"}},{\\\"InputName\\\":\\\"code\\\",\\\"AppManaged\\\":false,\\\"S3Input\\\":{\\\"S3Uri\\\":\\\"s3://udacity-landingzone/lesson3-stepfunction/script/HelloBlazePreprocess.py\\\",\\\"LocalPath\\\":\\\"/opt/ml/processing/input/script\\\",\\\"S3DataType\\\":\\\"S3Prefix\\\",\\\"S3InputMode\\\":\\\"File\\\",\\\"S3DataDistributionType\\\":\\\"FullyReplicated\\\",\\\"S3CompressionType\\\":\\\"None\\\"}}],\\\"ProcessingOutputConfig\\\":{\\\"Outputs\\\":[{\\\"OutputName\\\":\\\"train_data\\\",\\\"AppManaged\\\":false,\\\"S3Output\\\":{\\\"S3Uri\\\":\\\"s3://udacity-landingzone/lesson3-stepfunction/output/Toys_and_Games_5.json.zip_train\\\",\\\"LocalPath\\\":\\\"/opt/ml/processing/output/train\\\",\\\"S3UploadMode\\\":\\\"EndOfJob\\\"}},{\\\"OutputName\\\":\\\"test_data\\\",\\\"AppManaged\\\":false,\\\"S3Output\\\":{\\\"S3Uri\\\":\\\"s3://udacity-landingzone/lesson3-stepfunction/output/Toys_and_Games_5.json.zip_test\\\",\\\"LocalPath\\\":\\\"/opt/ml/processing/output/test\\\",\\\"S3UploadMode\\\":\\\"EndOfJob\\\"}}]},\\\"AppSpecification\\\":{\\\"ImageUri\\\":\\\"683313688378.dkr.ecr.us-east-1.amazonaws.com/sagemaker-scikit-learn:0.20.0-cpu-py3\\\",\\\"ContainerEntrypoint\\\":[\\\"python3\\\",\\\"/opt/ml/processing/input/script/HelloBlazePreprocess.py\\\"]},\\\"RoleArn\\\":\\\"arn:aws:iam::002427974286:role/UdacitySageMakerStepFunctionExecutionRole\\\",\\\"ProcessingResources\\\":{\\\"ClusterConfig\\\":{\\\"InstanceCount\\\":1,\\\"InstanceType\\\":\\\"ml.m5.large\\\",\\\"VolumeSizeInGB\\\":30}},\\\"Tags\\\":[{\\\"Key\\\":\\\"MANAGED_BY_AWS\\\",\\\"Value\\\":\\\"STARTED_BY_STEP_FUNCTIONS\\\"}]}\"}}, {\"timestamp\": 1728097685.035, \"type\": \"TaskStarted\", \"id\": 4, \"previousEventId\": 3, \"taskStartedEventDetails\": {\"resourceType\": \"sagemaker\", \"resource\": \"createProcessingJob.sync\"}}, {\"timestamp\": 1728097685.468, \"type\": \"TaskSubmitted\", \"id\": 5, \"previousEventId\": 4, \"taskSubmittedEventDetails\": {\"resourceType\": \"sagemaker\", \"resource\": \"createProcessingJob.sync\", \"output\": \"{\\\"ProcessingJobArn\\\":\\\"arn:aws:sagemaker:us-east-1:002427974286:processing-job/PreprocessingJob-1728097683\\\",\\\"SdkHttpMetadata\\\":{\\\"AllHttpHeaders\\\":{\\\"date\\\":[\\\"Sat, 05 Oct 2024 03:08:04 GMT\\\"],\\\"content-length\\\":[\\\"106\\\"],\\\"x-amzn-requestid\\\":[\\\"d7bb9217-2a92-470d-82f1-8e25c21cfbaf\\\"],\\\"content-type\\\":[\\\"application/x-amz-json-1.1\\\"]},\\\"HttpHeaders\\\":{\\\"content-length\\\":\\\"106\\\",\\\"content-type\\\":\\\"application/x-amz-json-1.1\\\",\\\"date\\\":\\\"Sat, 05 Oct 2024 03:08:04 GMT\\\",\\\"x-amzn-requestid\\\":\\\"d7bb9217-2a92-470d-82f1-8e25c21cfbaf\\\"},\\\"HttpStatusCode\\\":200},\\\"SdkResponseMetadata\\\":{\\\"RequestId\\\":\\\"d7bb9217-2a92-470d-82f1-8e25c21cfbaf\\\"}}\", \"outputDetails\": {\"truncated\": false}}}, {\"timestamp\": 1728097839.54, \"type\": \"TaskSucceeded\", \"id\": 6, \"previousEventId\": 5, \"taskSucceededEventDetails\": {\"resourceType\": \"sagemaker\", \"resource\": \"createProcessingJob.sync\", \"output\": \"{\\\"SdkResponseMetadata\\\":null,\\\"SdkHttpMetadata\\\":null,\\\"ProcessingInputs\\\":[{\\\"InputName\\\":\\\"input-1\\\",\\\"AppManaged\\\":false,\\\"S3Input\\\":{\\\"S3Uri\\\":\\\"s3://udacity-landingzone/lesson3-stepfunction/input/Toys_and_Games_5.json.zip\\\",\\\"LocalPath\\\":\\\"/opt/ml/processing/input\\\",\\\"S3DataType\\\":\\\"S3_PREFIX\\\",\\\"S3InputMode\\\":\\\"FILE\\\",\\\"S3DataDistributionType\\\":\\\"FULLYREPLICATED\\\",\\\"S3CompressionType\\\":null},\\\"DatasetDefinition\\\":null},{\\\"InputName\\\":\\\"code\\\",\\\"AppManaged\\\":false,\\\"S3Input\\\":{\\\"S3Uri\\\":\\\"s3://udacity-landingzone/lesson3-stepfunction/script/HelloBlazePreprocess.py\\\",\\\"LocalPath\\\":\\\"/opt/ml/processing/input/script\\\",\\\"S3DataType\\\":\\\"S3_PREFIX\\\",\\\"S3InputMode\\\":\\\"FILE\\\",\\\"S3DataDistributionType\\\":\\\"FULLYREPLICATED\\\",\\\"S3CompressionType\\\":null},\\\"DatasetDefinition\\\":null}],\\\"ProcessingOutputConfig\\\":{\\\"Outputs\\\":[{\\\"OutputName\\\":\\\"train_data\\\",\\\"S3Output\\\":{\\\"S3Uri\\\":\\\"s3://udacity-landingzone/lesson3-stepfunction/output/Toys_and_Games_5.json.zip_train\\\",\\\"LocalPath\\\":\\\"/opt/ml/processing/output/train\\\",\\\"S3UploadMode\\\":\\\"END_OF_JOB\\\"},\\\"FeatureStoreOutput\\\":null,\\\"AppManaged\\\":false},{\\\"OutputName\\\":\\\"test_data\\\",\\\"S3Output\\\":{\\\"S3Uri\\\":\\\"s3://udacity-landingzone/lesson3-stepfunction/output/Toys_and_Games_5.json.zip_test\\\",\\\"LocalPath\\\":\\\"/opt/ml/processing/output/test\\\",\\\"S3UploadMode\\\":\\\"END_OF_JOB\\\"},\\\"FeatureStoreOutput\\\":null,\\\"AppManaged\\\":false}],\\\"KmsKeyId\\\":null},\\\"ProcessingJobName\\\":\\\"PreprocessingJob-1728097683\\\",\\\"ProcessingResources\\\":{\\\"ClusterConfig\\\":{\\\"InstanceCount\\\":1,\\\"InstanceType\\\":\\\"ml.m5.large\\\",\\\"VolumeSizeInGB\\\":30,\\\"VolumeKmsKeyId\\\":null}},\\\"StoppingCondition\\\":{\\\"MaxRuntimeInSeconds\\\":86400},\\\"AppSpecification\\\":{\\\"ImageUri\\\":\\\"683313688378.dkr.ecr.us-east-1.amazonaws.com/sagemaker-scikit-learn:0.20.0-cpu-py3\\\",\\\"ContainerEntrypoint\\\":[\\\"python3\\\",\\\"/opt/ml/processing/input/script/HelloBlazePreprocess.py\\\"],\\\"ContainerArguments\\\":null},\\\"Environment\\\":null,\\\"NetworkConfig\\\":null,\\\"RoleArn\\\":\\\"arn:aws:iam::002427974286:role/UdacitySageMakerStepFunctionExecutionRole\\\",\\\"ExperimentConfig\\\":{\\\"ExperimentName\\\":null,\\\"TrialName\\\":null,\\\"TrialComponentDisplayName\\\":null,\\\"RunName\\\":null},\\\"ProcessingJobArn\\\":\\\"arn:aws:sagemaker:us-east-1:002427974286:processing-job/PreprocessingJob-1728097683\\\",\\\"ProcessingJobStatus\\\":\\\"Completed\\\",\\\"ExitMessage\\\":null,\\\"FailureReason\\\":null,\\\"ProcessingEndTime\\\":1728097814000,\\\"ProcessingStartTime\\\":1728097725000,\\\"LastModifiedTime\\\":1728097836000,\\\"CreationTime\\\":1728097685000,\\\"LastModifiedBy\\\":null,\\\"CreatedBy\\\":null,\\\"MonitoringScheduleArn\\\":null,\\\"AutoMLJobArn\\\":null,\\\"TrainingJobArn\\\":null,\\\"Tags\\\":{\\\"AWS_STEP_FUNCTIONS_EXECUTION_ARN\\\":\\\"arn:aws:states:us-east-1:002427974286:execution:workflow-stepfunction-processing:fa6701a7-ba4f-4420-b0f1-094055bb7d5e\\\",\\\"MANAGED_BY_AWS\\\":\\\"STARTED_BY_STEP_FUNCTIONS\\\"}}\", \"outputDetails\": {\"truncated\": false}}}, {\"timestamp\": 1728097839.562, \"type\": \"TaskStateExited\", \"id\": 7, \"previousEventId\": 6, \"stateExitedEventDetails\": {\"name\": \"SageMaker pre-processing step 4\", \"output\": \"{\\\"SdkResponseMetadata\\\":null,\\\"SdkHttpMetadata\\\":null,\\\"ProcessingInputs\\\":[{\\\"InputName\\\":\\\"input-1\\\",\\\"AppManaged\\\":false,\\\"S3Input\\\":{\\\"S3Uri\\\":\\\"s3://udacity-landingzone/lesson3-stepfunction/input/Toys_and_Games_5.json.zip\\\",\\\"LocalPath\\\":\\\"/opt/ml/processing/input\\\",\\\"S3DataType\\\":\\\"S3_PREFIX\\\",\\\"S3InputMode\\\":\\\"FILE\\\",\\\"S3DataDistributionType\\\":\\\"FULLYREPLICATED\\\",\\\"S3CompressionType\\\":null},\\\"DatasetDefinition\\\":null},{\\\"InputName\\\":\\\"code\\\",\\\"AppManaged\\\":false,\\\"S3Input\\\":{\\\"S3Uri\\\":\\\"s3://udacity-landingzone/lesson3-stepfunction/script/HelloBlazePreprocess.py\\\",\\\"LocalPath\\\":\\\"/opt/ml/processing/input/script\\\",\\\"S3DataType\\\":\\\"S3_PREFIX\\\",\\\"S3InputMode\\\":\\\"FILE\\\",\\\"S3DataDistributionType\\\":\\\"FULLYREPLICATED\\\",\\\"S3CompressionType\\\":null},\\\"DatasetDefinition\\\":null}],\\\"ProcessingOutputConfig\\\":{\\\"Outputs\\\":[{\\\"OutputName\\\":\\\"train_data\\\",\\\"S3Output\\\":{\\\"S3Uri\\\":\\\"s3://udacity-landingzone/lesson3-stepfunction/output/Toys_and_Games_5.json.zip_train\\\",\\\"LocalPath\\\":\\\"/opt/ml/processing/output/train\\\",\\\"S3UploadMode\\\":\\\"END_OF_JOB\\\"},\\\"FeatureStoreOutput\\\":null,\\\"AppManaged\\\":false},{\\\"OutputName\\\":\\\"test_data\\\",\\\"S3Output\\\":{\\\"S3Uri\\\":\\\"s3://udacity-landingzone/lesson3-stepfunction/output/Toys_and_Games_5.json.zip_test\\\",\\\"LocalPath\\\":\\\"/opt/ml/processing/output/test\\\",\\\"S3UploadMode\\\":\\\"END_OF_JOB\\\"},\\\"FeatureStoreOutput\\\":null,\\\"AppManaged\\\":false}],\\\"KmsKeyId\\\":null},\\\"ProcessingJobName\\\":\\\"PreprocessingJob-1728097683\\\",\\\"ProcessingResources\\\":{\\\"ClusterConfig\\\":{\\\"InstanceCount\\\":1,\\\"InstanceType\\\":\\\"ml.m5.large\\\",\\\"VolumeSizeInGB\\\":30,\\\"VolumeKmsKeyId\\\":null}},\\\"StoppingCondition\\\":{\\\"MaxRuntimeInSeconds\\\":86400},\\\"AppSpecification\\\":{\\\"ImageUri\\\":\\\"683313688378.dkr.ecr.us-east-1.amazonaws.com/sagemaker-scikit-learn:0.20.0-cpu-py3\\\",\\\"ContainerEntrypoint\\\":[\\\"python3\\\",\\\"/opt/ml/processing/input/script/HelloBlazePreprocess.py\\\"],\\\"ContainerArguments\\\":null},\\\"Environment\\\":null,\\\"NetworkConfig\\\":null,\\\"RoleArn\\\":\\\"arn:aws:iam::002427974286:role/UdacitySageMakerStepFunctionExecutionRole\\\",\\\"ExperimentConfig\\\":{\\\"ExperimentName\\\":null,\\\"TrialName\\\":null,\\\"TrialComponentDisplayName\\\":null,\\\"RunName\\\":null},\\\"ProcessingJobArn\\\":\\\"arn:aws:sagemaker:us-east-1:002427974286:processing-job/PreprocessingJob-1728097683\\\",\\\"ProcessingJobStatus\\\":\\\"Completed\\\",\\\"ExitMessage\\\":null,\\\"FailureReason\\\":null,\\\"ProcessingEndTime\\\":1728097814000,\\\"ProcessingStartTime\\\":1728097725000,\\\"LastModifiedTime\\\":1728097836000,\\\"CreationTime\\\":1728097685000,\\\"LastModifiedBy\\\":null,\\\"CreatedBy\\\":null,\\\"MonitoringScheduleArn\\\":null,\\\"AutoMLJobArn\\\":null,\\\"TrainingJobArn\\\":null,\\\"Tags\\\":{\\\"AWS_STEP_FUNCTIONS_EXECUTION_ARN\\\":\\\"arn:aws:states:us-east-1:002427974286:execution:workflow-stepfunction-processing:fa6701a7-ba4f-4420-b0f1-094055bb7d5e\\\",\\\"MANAGED_BY_AWS\\\":\\\"STARTED_BY_STEP_FUNCTIONS\\\"}}\", \"outputDetails\": {\"truncated\": false}}}, {\"timestamp\": 1728097839.562, \"type\": \"TaskStateEntered\", \"id\": 8, \"previousEventId\": 7, \"stateEnteredEventDetails\": {\"name\": \"SageMaker Training Step\", \"input\": \"{\\\"SdkResponseMetadata\\\":null,\\\"SdkHttpMetadata\\\":null,\\\"ProcessingInputs\\\":[{\\\"InputName\\\":\\\"input-1\\\",\\\"AppManaged\\\":false,\\\"S3Input\\\":{\\\"S3Uri\\\":\\\"s3://udacity-landingzone/lesson3-stepfunction/input/Toys_and_Games_5.json.zip\\\",\\\"LocalPath\\\":\\\"/opt/ml/processing/input\\\",\\\"S3DataType\\\":\\\"S3_PREFIX\\\",\\\"S3InputMode\\\":\\\"FILE\\\",\\\"S3DataDistributionType\\\":\\\"FULLYREPLICATED\\\",\\\"S3CompressionType\\\":null},\\\"DatasetDefinition\\\":null},{\\\"InputName\\\":\\\"code\\\",\\\"AppManaged\\\":false,\\\"S3Input\\\":{\\\"S3Uri\\\":\\\"s3://udacity-landingzone/lesson3-stepfunction/script/HelloBlazePreprocess.py\\\",\\\"LocalPath\\\":\\\"/opt/ml/processing/input/script\\\",\\\"S3DataType\\\":\\\"S3_PREFIX\\\",\\\"S3InputMode\\\":\\\"FILE\\\",\\\"S3DataDistributionType\\\":\\\"FULLYREPLICATED\\\",\\\"S3CompressionType\\\":null},\\\"DatasetDefinition\\\":null}],\\\"ProcessingOutputConfig\\\":{\\\"Outputs\\\":[{\\\"OutputName\\\":\\\"train_data\\\",\\\"S3Output\\\":{\\\"S3Uri\\\":\\\"s3://udacity-landingzone/lesson3-stepfunction/output/Toys_and_Games_5.json.zip_train\\\",\\\"LocalPath\\\":\\\"/opt/ml/processing/output/train\\\",\\\"S3UploadMode\\\":\\\"END_OF_JOB\\\"},\\\"FeatureStoreOutput\\\":null,\\\"AppManaged\\\":false},{\\\"OutputName\\\":\\\"test_data\\\",\\\"S3Output\\\":{\\\"S3Uri\\\":\\\"s3://udacity-landingzone/lesson3-stepfunction/output/Toys_and_Games_5.json.zip_test\\\",\\\"LocalPath\\\":\\\"/opt/ml/processing/output/test\\\",\\\"S3UploadMode\\\":\\\"END_OF_JOB\\\"},\\\"FeatureStoreOutput\\\":null,\\\"AppManaged\\\":false}],\\\"KmsKeyId\\\":null},\\\"ProcessingJobName\\\":\\\"PreprocessingJob-1728097683\\\",\\\"ProcessingResources\\\":{\\\"ClusterConfig\\\":{\\\"InstanceCount\\\":1,\\\"InstanceType\\\":\\\"ml.m5.large\\\",\\\"VolumeSizeInGB\\\":30,\\\"VolumeKmsKeyId\\\":null}},\\\"StoppingCondition\\\":{\\\"MaxRuntimeInSeconds\\\":86400},\\\"AppSpecification\\\":{\\\"ImageUri\\\":\\\"683313688378.dkr.ecr.us-east-1.amazonaws.com/sagemaker-scikit-learn:0.20.0-cpu-py3\\\",\\\"ContainerEntrypoint\\\":[\\\"python3\\\",\\\"/opt/ml/processing/input/script/HelloBlazePreprocess.py\\\"],\\\"ContainerArguments\\\":null},\\\"Environment\\\":null,\\\"NetworkConfig\\\":null,\\\"RoleArn\\\":\\\"arn:aws:iam::002427974286:role/UdacitySageMakerStepFunctionExecutionRole\\\",\\\"ExperimentConfig\\\":{\\\"ExperimentName\\\":null,\\\"TrialName\\\":null,\\\"TrialComponentDisplayName\\\":null,\\\"RunName\\\":null},\\\"ProcessingJobArn\\\":\\\"arn:aws:sagemaker:us-east-1:002427974286:processing-job/PreprocessingJob-1728097683\\\",\\\"ProcessingJobStatus\\\":\\\"Completed\\\",\\\"ExitMessage\\\":null,\\\"FailureReason\\\":null,\\\"ProcessingEndTime\\\":1728097814000,\\\"ProcessingStartTime\\\":1728097725000,\\\"LastModifiedTime\\\":1728097836000,\\\"CreationTime\\\":1728097685000,\\\"LastModifiedBy\\\":null,\\\"CreatedBy\\\":null,\\\"MonitoringScheduleArn\\\":null,\\\"AutoMLJobArn\\\":null,\\\"TrainingJobArn\\\":null,\\\"Tags\\\":{\\\"AWS_STEP_FUNCTIONS_EXECUTION_ARN\\\":\\\"arn:aws:states:us-east-1:002427974286:execution:workflow-stepfunction-processing:fa6701a7-ba4f-4420-b0f1-094055bb7d5e\\\",\\\"MANAGED_BY_AWS\\\":\\\"STARTED_BY_STEP_FUNCTIONS\\\"}}\", \"inputDetails\": {\"truncated\": false}}}, {\"timestamp\": 1728097839.562, \"type\": \"TaskScheduled\", \"id\": 9, \"previousEventId\": 8, \"taskScheduledEventDetails\": {\"resourceType\": \"sagemaker\", \"resource\": \"createTrainingJob.sync\", \"region\": \"us-east-1\", \"parameters\": \"{\\\"AlgorithmSpecification\\\":{\\\"TrainingImage\\\":\\\"811284229777.dkr.ecr.us-east-1.amazonaws.com/blazingtext:1\\\",\\\"TrainingInputMode\\\":\\\"File\\\"},\\\"OutputDataConfig\\\":{\\\"S3OutputPath\\\":\\\"s3://udacity-landingzone/lesson3-stepfunction/workflow/\\\"},\\\"StoppingCondition\\\":{\\\"MaxRuntimeInSeconds\\\":360000},\\\"ResourceConfig\\\":{\\\"VolumeSizeInGB\\\":30,\\\"InstanceCount\\\":1,\\\"InstanceType\\\":\\\"ml.m5.large\\\"},\\\"RoleArn\\\":\\\"arn:aws:iam::002427974286:role/UdacitySageMakerStepFunctionExecutionRole\\\",\\\"InputDataConfig\\\":[{\\\"DataSource\\\":{\\\"S3DataSource\\\":{\\\"S3DataType\\\":\\\"S3Prefix\\\",\\\"S3Uri\\\":\\\"s3://udacity-landingzone/lesson3-stepfunction/output/Toys_and_Games_5.json.zip_train\\\",\\\"S3DataDistributionType\\\":\\\"FullyReplicated\\\"}},\\\"ContentType\\\":\\\"text/plain\\\",\\\"ChannelName\\\":\\\"train\\\"},{\\\"DataSource\\\":{\\\"S3DataSource\\\":{\\\"S3DataType\\\":\\\"S3Prefix\\\",\\\"S3Uri\\\":\\\"s3://udacity-landingzone/lesson3-stepfunction/output/Toys_and_Games_5.json.zip_test\\\",\\\"S3DataDistributionType\\\":\\\"FullyReplicated\\\"}},\\\"ContentType\\\":\\\"text/plain\\\",\\\"ChannelName\\\":\\\"validation\\\"}],\\\"HyperParameters\\\":{\\\"mode\\\":\\\"supervised\\\"},\\\"TrainingJobName\\\":\\\"TrainingJob-1728097683\\\",\\\"DebugHookConfig\\\":{\\\"S3OutputPath\\\":\\\"s3://udacity-landingzone/lesson3-stepfunction/workflow/\\\"},\\\"Tags\\\":[{\\\"Key\\\":\\\"MANAGED_BY_AWS\\\",\\\"Value\\\":\\\"STARTED_BY_STEP_FUNCTIONS\\\"}]}\"}}, {\"timestamp\": 1728097839.638, \"type\": \"TaskStarted\", \"id\": 10, \"previousEventId\": 9, \"taskStartedEventDetails\": {\"resourceType\": \"sagemaker\", \"resource\": \"createTrainingJob.sync\"}}, {\"timestamp\": 1728097840.14, \"type\": \"TaskSubmitted\", \"id\": 11, \"previousEventId\": 10, \"taskSubmittedEventDetails\": {\"resourceType\": \"sagemaker\", \"resource\": \"createTrainingJob.sync\", \"output\": \"{\\\"SdkHttpMetadata\\\":{\\\"AllHttpHeaders\\\":{\\\"date\\\":[\\\"Sat, 05 Oct 2024 03:10:39 GMT\\\"],\\\"content-length\\\":[\\\"97\\\"],\\\"x-amzn-requestid\\\":[\\\"9a8a538b-74cb-4804-b969-0a5b43835bd9\\\"],\\\"content-type\\\":[\\\"application/x-amz-json-1.1\\\"]},\\\"HttpHeaders\\\":{\\\"content-length\\\":\\\"97\\\",\\\"content-type\\\":\\\"application/x-amz-json-1.1\\\",\\\"date\\\":\\\"Sat, 05 Oct 2024 03:10:39 GMT\\\",\\\"x-amzn-requestid\\\":\\\"9a8a538b-74cb-4804-b969-0a5b43835bd9\\\"},\\\"HttpStatusCode\\\":200},\\\"SdkResponseMetadata\\\":{\\\"RequestId\\\":\\\"9a8a538b-74cb-4804-b969-0a5b43835bd9\\\"},\\\"TrainingJobArn\\\":\\\"arn:aws:sagemaker:us-east-1:002427974286:training-job/TrainingJob-1728097683\\\"}\", \"outputDetails\": {\"truncated\": false}}}, {\"timestamp\": 1728098028.519, \"type\": \"TaskSucceeded\", \"id\": 12, \"previousEventId\": 11, \"taskSucceededEventDetails\": {\"resourceType\": \"sagemaker\", \"resource\": \"createTrainingJob.sync\", \"output\": \"{\\\"SdkResponseMetadata\\\":null,\\\"SdkHttpMetadata\\\":null,\\\"TrainingJobName\\\":\\\"TrainingJob-1728097683\\\",\\\"TrainingJobArn\\\":\\\"arn:aws:sagemaker:us-east-1:002427974286:training-job/TrainingJob-1728097683\\\",\\\"ProcessingJobArn\\\":null,\\\"TuningJobArn\\\":null,\\\"LabelingJobArn\\\":null,\\\"AutoMLJobArn\\\":null,\\\"ModelArtifacts\\\":{\\\"S3ModelArtifacts\\\":\\\"s3://udacity-landingzone/lesson3-stepfunction/workflow/TrainingJob-1728097683/output/model.tar.gz\\\"},\\\"TrainingJobOutput\\\":null,\\\"TrainingJobStatus\\\":\\\"Completed\\\",\\\"SecondaryStatus\\\":\\\"Completed\\\",\\\"FailureReason\\\":null,\\\"HyperParameters\\\":{\\\"mode\\\":\\\"supervised\\\"},\\\"AlgorithmSpecification\\\":{\\\"TrainingImage\\\":\\\"811284229777.dkr.ecr.us-east-1.amazonaws.com/blazingtext:1\\\",\\\"AlgorithmName\\\":null,\\\"TrainingInputMode\\\":\\\"FILE\\\",\\\"MetricDefinitions\\\":null,\\\"EnableSageMakerMetricsTimeSeries\\\":null,\\\"ContainerEntrypoint\\\":null,\\\"ContainerArguments\\\":null,\\\"TrainingImageConfig\\\":null},\\\"RoleArn\\\":\\\"arn:aws:iam::002427974286:role/UdacitySageMakerStepFunctionExecutionRole\\\",\\\"InputDataConfig\\\":[{\\\"ChannelName\\\":\\\"train\\\",\\\"DataSource\\\":{\\\"S3DataSource\\\":{\\\"S3DataType\\\":\\\"S3_PREFIX\\\",\\\"S3Uri\\\":\\\"s3://udacity-landingzone/lesson3-stepfunction/output/Toys_and_Games_5.json.zip_train\\\",\\\"S3DataDistributionType\\\":\\\"FULLY_REPLICATED\\\",\\\"AttributeNames\\\":null,\\\"InstanceGroupNames\\\":null},\\\"FileSystemDataSource\\\":null},\\\"ContentType\\\":\\\"text/plain\\\",\\\"CompressionType\\\":\\\"NONE\\\",\\\"RecordWrapperType\\\":\\\"NONE\\\",\\\"InputMode\\\":null,\\\"ShuffleConfig\\\":null,\\\"EnableFFM\\\":null},{\\\"ChannelName\\\":\\\"validation\\\",\\\"DataSource\\\":{\\\"S3DataSource\\\":{\\\"S3DataType\\\":\\\"S3_PREFIX\\\",\\\"S3Uri\\\":\\\"s3://udacity-landingzone/lesson3-stepfunction/output/Toys_and_Games_5.json.zip_test\\\",\\\"S3DataDistributionType\\\":\\\"FULLY_REPLICATED\\\",\\\"AttributeNames\\\":null,\\\"InstanceGroupNames\\\":null},\\\"FileSystemDataSource\\\":null},\\\"ContentType\\\":\\\"text/plain\\\",\\\"CompressionType\\\":\\\"NONE\\\",\\\"RecordWrapperType\\\":\\\"NONE\\\",\\\"InputMode\\\":null,\\\"ShuffleConfig\\\":null,\\\"EnableFFM\\\":null}],\\\"OutputDataConfig\\\":{\\\"KmsKeyId\\\":null,\\\"S3OutputPath\\\":\\\"s3://udacity-landingzone/lesson3-stepfunction/workflow/\\\",\\\"CompressionType\\\":null,\\\"RemoveJobNameFromS3OutputPath\\\":null,\\\"DisableModelUpload\\\":null,\\\"Channels\\\":null},\\\"ResourceConfig\\\":{\\\"InstanceType\\\":\\\"ml.m5.large\\\",\\\"InstanceCount\\\":1,\\\"VolumeSizeInGB\\\":30,\\\"VolumeKmsKeyId\\\":null,\\\"KeepAlivePeriodInSeconds\\\":0,\\\"CapacityReservationIds\\\":null,\\\"InstanceGroups\\\":null,\\\"CapacitySchedulesConfig\\\":null},\\\"WarmPoolStatus\\\":null,\\\"VpcConfig\\\":null,\\\"StoppingCondition\\\":{\\\"MaxRuntimeInSeconds\\\":360000,\\\"MaxWaitTimeInSeconds\\\":null,\\\"MaxPendingTimeInSeconds\\\":null},\\\"CreationTime\\\":1728097839899,\\\"TrainingStartTime\\\":1728097886694,\\\"TrainingEndTime\\\":1728098026363,\\\"LastModifiedTime\\\":1728098026363,\\\"SecondaryStatusTransitions\\\":[{\\\"Status\\\":\\\"Starting\\\",\\\"StartTime\\\":1728097839899,\\\"EndTime\\\":1728097886694,\\\"StatusMessage\\\":\\\"Preparing the instances for training\\\"},{\\\"Status\\\":\\\"Downloading\\\",\\\"StartTime\\\":1728097886694,\\\"EndTime\\\":1728097942969,\\\"StatusMessage\\\":\\\"Downloading the training image\\\"},{\\\"Status\\\":\\\"Training\\\",\\\"StartTime\\\":1728097942969,\\\"EndTime\\\":1728097978518,\\\"StatusMessage\\\":\\\"Training image download completed. Training in progress.\\\"},{\\\"Status\\\":\\\"Uploading\\\",\\\"StartTime\\\":1728097978518,\\\"EndTime\\\":1728098026363,\\\"StatusMessage\\\":\\\"Uploading generated training model\\\"},{\\\"Status\\\":\\\"Completed\\\",\\\"StartTime\\\":1728098026363,\\\"EndTime\\\":1728098026363,\\\"StatusMessage\\\":\\\"Training job completed\\\"}],\\\"FinalMetricDataList\\\":null,\\\"EnableNetworkIsolation\\\":null,\\\"EnableInterContainerTrafficEncryption\\\":null,\\\"EnableManagedSpotTraining\\\":null,\\\"CheckpointConfig\\\":null,\\\"TrainingTimeInSeconds\\\":null,\\\"BillableTimeInSeconds\\\":null,\\\"DebugHookConfig\\\":{\\\"LocalPath\\\":null,\\\"S3OutputPath\\\":\\\"s3://udacity-landingzone/lesson3-stepfunction/workflow/\\\",\\\"HookParameters\\\":null,\\\"CollectionConfigurations\\\":null},\\\"ExperimentConfig\\\":null,\\\"DebugRuleConfigurations\\\":null,\\\"TensorBoardOutputConfig\\\":null,\\\"DebugRuleEvaluationStatuses\\\":null,\\\"UpstreamPlatformConfig\\\":null,\\\"ProfilerConfig\\\":null,\\\"ProfilerRuleConfigurations\\\":null,\\\"ProfilerRuleEvaluationStatuses\\\":null,\\\"ProfilingStatus\\\":null,\\\"Environment\\\":null,\\\"RetryStrategy\\\":null,\\\"LastModifiedBy\\\":null,\\\"CreatedBy\\\":null,\\\"DisableEFA\\\":null,\\\"ProcessingJobConfig\\\":null,\\\"ImageMetadata\\\":null,\\\"RemoteDebugConfig\\\":null,\\\"ResourceTags\\\":null,\\\"InfraCheckConfig\\\":null,\\\"Tags\\\":{\\\"AWS_STEP_FUNCTIONS_EXECUTION_ARN\\\":\\\"arn:aws:states:us-east-1:002427974286:execution:workflow-stepfunction-processing:fa6701a7-ba4f-4420-b0f1-094055bb7d5e\\\",\\\"MANAGED_BY_AWS\\\":\\\"STARTED_BY_STEP_FUNCTIONS\\\"}}\", \"outputDetails\": {\"truncated\": false}}}, {\"timestamp\": 1728098028.564, \"type\": \"TaskStateExited\", \"id\": 13, \"previousEventId\": 12, \"stateExitedEventDetails\": {\"name\": \"SageMaker Training Step\", \"output\": \"{\\\"SdkResponseMetadata\\\":null,\\\"SdkHttpMetadata\\\":null,\\\"TrainingJobName\\\":\\\"TrainingJob-1728097683\\\",\\\"TrainingJobArn\\\":\\\"arn:aws:sagemaker:us-east-1:002427974286:training-job/TrainingJob-1728097683\\\",\\\"ProcessingJobArn\\\":null,\\\"TuningJobArn\\\":null,\\\"LabelingJobArn\\\":null,\\\"AutoMLJobArn\\\":null,\\\"ModelArtifacts\\\":{\\\"S3ModelArtifacts\\\":\\\"s3://udacity-landingzone/lesson3-stepfunction/workflow/TrainingJob-1728097683/output/model.tar.gz\\\"},\\\"TrainingJobOutput\\\":null,\\\"TrainingJobStatus\\\":\\\"Completed\\\",\\\"SecondaryStatus\\\":\\\"Completed\\\",\\\"FailureReason\\\":null,\\\"HyperParameters\\\":{\\\"mode\\\":\\\"supervised\\\"},\\\"AlgorithmSpecification\\\":{\\\"TrainingImage\\\":\\\"811284229777.dkr.ecr.us-east-1.amazonaws.com/blazingtext:1\\\",\\\"AlgorithmName\\\":null,\\\"TrainingInputMode\\\":\\\"FILE\\\",\\\"MetricDefinitions\\\":null,\\\"EnableSageMakerMetricsTimeSeries\\\":null,\\\"ContainerEntrypoint\\\":null,\\\"ContainerArguments\\\":null,\\\"TrainingImageConfig\\\":null},\\\"RoleArn\\\":\\\"arn:aws:iam::002427974286:role/UdacitySageMakerStepFunctionExecutionRole\\\",\\\"InputDataConfig\\\":[{\\\"ChannelName\\\":\\\"train\\\",\\\"DataSource\\\":{\\\"S3DataSource\\\":{\\\"S3DataType\\\":\\\"S3_PREFIX\\\",\\\"S3Uri\\\":\\\"s3://udacity-landingzone/lesson3-stepfunction/output/Toys_and_Games_5.json.zip_train\\\",\\\"S3DataDistributionType\\\":\\\"FULLY_REPLICATED\\\",\\\"AttributeNames\\\":null,\\\"InstanceGroupNames\\\":null},\\\"FileSystemDataSource\\\":null},\\\"ContentType\\\":\\\"text/plain\\\",\\\"CompressionType\\\":\\\"NONE\\\",\\\"RecordWrapperType\\\":\\\"NONE\\\",\\\"InputMode\\\":null,\\\"ShuffleConfig\\\":null,\\\"EnableFFM\\\":null},{\\\"ChannelName\\\":\\\"validation\\\",\\\"DataSource\\\":{\\\"S3DataSource\\\":{\\\"S3DataType\\\":\\\"S3_PREFIX\\\",\\\"S3Uri\\\":\\\"s3://udacity-landingzone/lesson3-stepfunction/output/Toys_and_Games_5.json.zip_test\\\",\\\"S3DataDistributionType\\\":\\\"FULLY_REPLICATED\\\",\\\"AttributeNames\\\":null,\\\"InstanceGroupNames\\\":null},\\\"FileSystemDataSource\\\":null},\\\"ContentType\\\":\\\"text/plain\\\",\\\"CompressionType\\\":\\\"NONE\\\",\\\"RecordWrapperType\\\":\\\"NONE\\\",\\\"InputMode\\\":null,\\\"ShuffleConfig\\\":null,\\\"EnableFFM\\\":null}],\\\"OutputDataConfig\\\":{\\\"KmsKeyId\\\":null,\\\"S3OutputPath\\\":\\\"s3://udacity-landingzone/lesson3-stepfunction/workflow/\\\",\\\"CompressionType\\\":null,\\\"RemoveJobNameFromS3OutputPath\\\":null,\\\"DisableModelUpload\\\":null,\\\"Channels\\\":null},\\\"ResourceConfig\\\":{\\\"InstanceType\\\":\\\"ml.m5.large\\\",\\\"InstanceCount\\\":1,\\\"VolumeSizeInGB\\\":30,\\\"VolumeKmsKeyId\\\":null,\\\"KeepAlivePeriodInSeconds\\\":0,\\\"CapacityReservationIds\\\":null,\\\"InstanceGroups\\\":null,\\\"CapacitySchedulesConfig\\\":null},\\\"WarmPoolStatus\\\":null,\\\"VpcConfig\\\":null,\\\"StoppingCondition\\\":{\\\"MaxRuntimeInSeconds\\\":360000,\\\"MaxWaitTimeInSeconds\\\":null,\\\"MaxPendingTimeInSeconds\\\":null},\\\"CreationTime\\\":1728097839899,\\\"TrainingStartTime\\\":1728097886694,\\\"TrainingEndTime\\\":1728098026363,\\\"LastModifiedTime\\\":1728098026363,\\\"SecondaryStatusTransitions\\\":[{\\\"Status\\\":\\\"Starting\\\",\\\"StartTime\\\":1728097839899,\\\"EndTime\\\":1728097886694,\\\"StatusMessage\\\":\\\"Preparing the instances for training\\\"},{\\\"Status\\\":\\\"Downloading\\\",\\\"StartTime\\\":1728097886694,\\\"EndTime\\\":1728097942969,\\\"StatusMessage\\\":\\\"Downloading the training image\\\"},{\\\"Status\\\":\\\"Training\\\",\\\"StartTime\\\":1728097942969,\\\"EndTime\\\":1728097978518,\\\"StatusMessage\\\":\\\"Training image download completed. Training in progress.\\\"},{\\\"Status\\\":\\\"Uploading\\\",\\\"StartTime\\\":1728097978518,\\\"EndTime\\\":1728098026363,\\\"StatusMessage\\\":\\\"Uploading generated training model\\\"},{\\\"Status\\\":\\\"Completed\\\",\\\"StartTime\\\":1728098026363,\\\"EndTime\\\":1728098026363,\\\"StatusMessage\\\":\\\"Training job completed\\\"}],\\\"FinalMetricDataList\\\":null,\\\"EnableNetworkIsolation\\\":null,\\\"EnableInterContainerTrafficEncryption\\\":null,\\\"EnableManagedSpotTraining\\\":null,\\\"CheckpointConfig\\\":null,\\\"TrainingTimeInSeconds\\\":null,\\\"BillableTimeInSeconds\\\":null,\\\"DebugHookConfig\\\":{\\\"LocalPath\\\":null,\\\"S3OutputPath\\\":\\\"s3://udacity-landingzone/lesson3-stepfunction/workflow/\\\",\\\"HookParameters\\\":null,\\\"CollectionConfigurations\\\":null},\\\"ExperimentConfig\\\":null,\\\"DebugRuleConfigurations\\\":null,\\\"TensorBoardOutputConfig\\\":null,\\\"DebugRuleEvaluationStatuses\\\":null,\\\"UpstreamPlatformConfig\\\":null,\\\"ProfilerConfig\\\":null,\\\"ProfilerRuleConfigurations\\\":null,\\\"ProfilerRuleEvaluationStatuses\\\":null,\\\"ProfilingStatus\\\":null,\\\"Environment\\\":null,\\\"RetryStrategy\\\":null,\\\"LastModifiedBy\\\":null,\\\"CreatedBy\\\":null,\\\"DisableEFA\\\":null,\\\"ProcessingJobConfig\\\":null,\\\"ImageMetadata\\\":null,\\\"RemoteDebugConfig\\\":null,\\\"ResourceTags\\\":null,\\\"InfraCheckConfig\\\":null,\\\"Tags\\\":{\\\"AWS_STEP_FUNCTIONS_EXECUTION_ARN\\\":\\\"arn:aws:states:us-east-1:002427974286:execution:workflow-stepfunction-processing:fa6701a7-ba4f-4420-b0f1-094055bb7d5e\\\",\\\"MANAGED_BY_AWS\\\":\\\"STARTED_BY_STEP_FUNCTIONS\\\"}}\", \"outputDetails\": {\"truncated\": false}}}, {\"timestamp\": 1728098028.615, \"type\": \"ExecutionSucceeded\", \"id\": 14, \"previousEventId\": 13, \"executionSucceededEventDetails\": {\"output\": \"{\\\"SdkResponseMetadata\\\":null,\\\"SdkHttpMetadata\\\":null,\\\"TrainingJobName\\\":\\\"TrainingJob-1728097683\\\",\\\"TrainingJobArn\\\":\\\"arn:aws:sagemaker:us-east-1:002427974286:training-job/TrainingJob-1728097683\\\",\\\"ProcessingJobArn\\\":null,\\\"TuningJobArn\\\":null,\\\"LabelingJobArn\\\":null,\\\"AutoMLJobArn\\\":null,\\\"ModelArtifacts\\\":{\\\"S3ModelArtifacts\\\":\\\"s3://udacity-landingzone/lesson3-stepfunction/workflow/TrainingJob-1728097683/output/model.tar.gz\\\"},\\\"TrainingJobOutput\\\":null,\\\"TrainingJobStatus\\\":\\\"Completed\\\",\\\"SecondaryStatus\\\":\\\"Completed\\\",\\\"FailureReason\\\":null,\\\"HyperParameters\\\":{\\\"mode\\\":\\\"supervised\\\"},\\\"AlgorithmSpecification\\\":{\\\"TrainingImage\\\":\\\"811284229777.dkr.ecr.us-east-1.amazonaws.com/blazingtext:1\\\",\\\"AlgorithmName\\\":null,\\\"TrainingInputMode\\\":\\\"FILE\\\",\\\"MetricDefinitions\\\":null,\\\"EnableSageMakerMetricsTimeSeries\\\":null,\\\"ContainerEntrypoint\\\":null,\\\"ContainerArguments\\\":null,\\\"TrainingImageConfig\\\":null},\\\"RoleArn\\\":\\\"arn:aws:iam::002427974286:role/UdacitySageMakerStepFunctionExecutionRole\\\",\\\"InputDataConfig\\\":[{\\\"ChannelName\\\":\\\"train\\\",\\\"DataSource\\\":{\\\"S3DataSource\\\":{\\\"S3DataType\\\":\\\"S3_PREFIX\\\",\\\"S3Uri\\\":\\\"s3://udacity-landingzone/lesson3-stepfunction/output/Toys_and_Games_5.json.zip_train\\\",\\\"S3DataDistributionType\\\":\\\"FULLY_REPLICATED\\\",\\\"AttributeNames\\\":null,\\\"InstanceGroupNames\\\":null},\\\"FileSystemDataSource\\\":null},\\\"ContentType\\\":\\\"text/plain\\\",\\\"CompressionType\\\":\\\"NONE\\\",\\\"RecordWrapperType\\\":\\\"NONE\\\",\\\"InputMode\\\":null,\\\"ShuffleConfig\\\":null,\\\"EnableFFM\\\":null},{\\\"ChannelName\\\":\\\"validation\\\",\\\"DataSource\\\":{\\\"S3DataSource\\\":{\\\"S3DataType\\\":\\\"S3_PREFIX\\\",\\\"S3Uri\\\":\\\"s3://udacity-landingzone/lesson3-stepfunction/output/Toys_and_Games_5.json.zip_test\\\",\\\"S3DataDistributionType\\\":\\\"FULLY_REPLICATED\\\",\\\"AttributeNames\\\":null,\\\"InstanceGroupNames\\\":null},\\\"FileSystemDataSource\\\":null},\\\"ContentType\\\":\\\"text/plain\\\",\\\"CompressionType\\\":\\\"NONE\\\",\\\"RecordWrapperType\\\":\\\"NONE\\\",\\\"InputMode\\\":null,\\\"ShuffleConfig\\\":null,\\\"EnableFFM\\\":null}],\\\"OutputDataConfig\\\":{\\\"KmsKeyId\\\":null,\\\"S3OutputPath\\\":\\\"s3://udacity-landingzone/lesson3-stepfunction/workflow/\\\",\\\"CompressionType\\\":null,\\\"RemoveJobNameFromS3OutputPath\\\":null,\\\"DisableModelUpload\\\":null,\\\"Channels\\\":null},\\\"ResourceConfig\\\":{\\\"InstanceType\\\":\\\"ml.m5.large\\\",\\\"InstanceCount\\\":1,\\\"VolumeSizeInGB\\\":30,\\\"VolumeKmsKeyId\\\":null,\\\"KeepAlivePeriodInSeconds\\\":0,\\\"CapacityReservationIds\\\":null,\\\"InstanceGroups\\\":null,\\\"CapacitySchedulesConfig\\\":null},\\\"WarmPoolStatus\\\":null,\\\"VpcConfig\\\":null,\\\"StoppingCondition\\\":{\\\"MaxRuntimeInSeconds\\\":360000,\\\"MaxWaitTimeInSeconds\\\":null,\\\"MaxPendingTimeInSeconds\\\":null},\\\"CreationTime\\\":1728097839899,\\\"TrainingStartTime\\\":1728097886694,\\\"TrainingEndTime\\\":1728098026363,\\\"LastModifiedTime\\\":1728098026363,\\\"SecondaryStatusTransitions\\\":[{\\\"Status\\\":\\\"Starting\\\",\\\"StartTime\\\":1728097839899,\\\"EndTime\\\":1728097886694,\\\"StatusMessage\\\":\\\"Preparing the instances for training\\\"},{\\\"Status\\\":\\\"Downloading\\\",\\\"StartTime\\\":1728097886694,\\\"EndTime\\\":1728097942969,\\\"StatusMessage\\\":\\\"Downloading the training image\\\"},{\\\"Status\\\":\\\"Training\\\",\\\"StartTime\\\":1728097942969,\\\"EndTime\\\":1728097978518,\\\"StatusMessage\\\":\\\"Training image download completed. Training in progress.\\\"},{\\\"Status\\\":\\\"Uploading\\\",\\\"StartTime\\\":1728097978518,\\\"EndTime\\\":1728098026363,\\\"StatusMessage\\\":\\\"Uploading generated training model\\\"},{\\\"Status\\\":\\\"Completed\\\",\\\"StartTime\\\":1728098026363,\\\"EndTime\\\":1728098026363,\\\"StatusMessage\\\":\\\"Training job completed\\\"}],\\\"FinalMetricDataList\\\":null,\\\"EnableNetworkIsolation\\\":null,\\\"EnableInterContainerTrafficEncryption\\\":null,\\\"EnableManagedSpotTraining\\\":null,\\\"CheckpointConfig\\\":null,\\\"TrainingTimeInSeconds\\\":null,\\\"BillableTimeInSeconds\\\":null,\\\"DebugHookConfig\\\":{\\\"LocalPath\\\":null,\\\"S3OutputPath\\\":\\\"s3://udacity-landingzone/lesson3-stepfunction/workflow/\\\",\\\"HookParameters\\\":null,\\\"CollectionConfigurations\\\":null},\\\"ExperimentConfig\\\":null,\\\"DebugRuleConfigurations\\\":null,\\\"TensorBoardOutputConfig\\\":null,\\\"DebugRuleEvaluationStatuses\\\":null,\\\"UpstreamPlatformConfig\\\":null,\\\"ProfilerConfig\\\":null,\\\"ProfilerRuleConfigurations\\\":null,\\\"ProfilerRuleEvaluationStatuses\\\":null,\\\"ProfilingStatus\\\":null,\\\"Environment\\\":null,\\\"RetryStrategy\\\":null,\\\"LastModifiedBy\\\":null,\\\"CreatedBy\\\":null,\\\"DisableEFA\\\":null,\\\"ProcessingJobConfig\\\":null,\\\"ImageMetadata\\\":null,\\\"RemoteDebugConfig\\\":null,\\\"ResourceTags\\\":null,\\\"InfraCheckConfig\\\":null,\\\"Tags\\\":{\\\"AWS_STEP_FUNCTIONS_EXECUTION_ARN\\\":\\\"arn:aws:states:us-east-1:002427974286:execution:workflow-stepfunction-processing:fa6701a7-ba4f-4420-b0f1-094055bb7d5e\\\",\\\"MANAGED_BY_AWS\\\":\\\"STARTED_BY_STEP_FUNCTIONS\\\"}}\", \"outputDetails\": {\"truncated\": false}}}] };\n",
       "\n",
       "    var graph = new sfn.StateMachineExecutionGraph(definition, events, elementId, options);\n",
       "    graph.render();\n",
       "});\n",
       "\n",
       "</script>\n"
      ],
      "text/plain": [
       "<IPython.core.display.HTML object>"
      ]
     },
     "execution_count": 7,
     "metadata": {},
     "output_type": "execute_result"
    }
   ],
   "source": [
    "execution.render_progress()"
   ]
  },
  {
   "cell_type": "code",
   "execution_count": null,
   "id": "49b5ffc2-99fb-4fba-ad74-87587e1aec38",
   "metadata": {},
   "outputs": [],
   "source": []
  }
 ],
 "metadata": {
  "kernelspec": {
   "display_name": "Python 3 (ipykernel)",
   "language": "python",
   "name": "python3"
  },
  "language_info": {
   "codemirror_mode": {
    "name": "ipython",
    "version": 3
   },
   "file_extension": ".py",
   "mimetype": "text/x-python",
   "name": "python",
   "nbconvert_exporter": "python",
   "pygments_lexer": "ipython3",
   "version": "3.11.9"
  }
 },
 "nbformat": 4,
 "nbformat_minor": 5
}
