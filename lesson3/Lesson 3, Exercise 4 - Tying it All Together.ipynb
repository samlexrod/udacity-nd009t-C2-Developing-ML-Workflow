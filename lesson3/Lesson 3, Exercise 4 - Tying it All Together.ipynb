{
 "cells": [
  {
   "cell_type": "markdown",
   "id": "134e2d03",
   "metadata": {},
   "source": [
    "# UDACITY Designing Your First Workflow - Tying it All Together"
   ]
  },
  {
   "cell_type": "markdown",
   "id": "d6e03226",
   "metadata": {},
   "source": [
    "AWS is comprised of many services, and one of the main skills you'll develop as an ML Engineer working in AWS is in chaining these services together to accomplish specific data engineering goals. With Lambda, you've learned how to launch serverless jobs, and with Step Functions, you've learned how to create a workflow that chains jobs together. Now, you'll learn how to launch a Step Function using a Lambda job. "
   ]
  },
  {
   "cell_type": "markdown",
   "id": "306881a2",
   "metadata": {},
   "source": [
    "Before starting this, it's important to highlight that this is not the only way to accomplish something like this. Multiple services integrate with Step Functions, and so it follows that there are multiple ways to launch Step Functions. These services, among others, include API Gateway, EventBridge, and even other Step Functions. "
   ]
  },
  {
   "cell_type": "markdown",
   "id": "fd72b5ed",
   "metadata": {},
   "source": [
    "Your task is to create a new lambda function that will launch the state machine you created in the **last exercise**. You'll then launch this lambda function from the command line. To find the definition of the step function you've made, click into the step function and look for the definition under the 'Definition' tab. "
   ]
  },
  {
   "cell_type": "markdown",
   "id": "23232098",
   "metadata": {},
   "source": [
    "First, create a new Lambda role. Attach to this role the StepFunctionsFullAccess policy. Then create a new lambda function under the default template, and attach this new role to it. Use the starter code below to help you modify the lambda handler to accomplish your task. "
   ]
  },
  {
   "cell_type": "markdown",
   "id": "25d13b61",
   "metadata": {},
   "source": [
    "As Step Function cannot execute more than once with the same name, you must update the definition with a new name. You can find the existing definition of a Step Function in the AWS Console under 'Step Functions'. In the lambda function code below, update the 'definition' with the step function definition from your last exercise, with the only difference being the, step fucntion name, processing-job name and the training-job name. "
   ]
  },
  {
   "cell_type": "markdown",
   "id": "d84f26f3",
   "metadata": {},
   "source": [
    "## Exercise: Create the Lambda Function"
   ]
  },
  {
   "cell_type": "code",
   "execution_count": 38,
   "id": "70233ab1",
   "metadata": {},
   "outputs": [],
   "source": [
    "import json\n",
    "import boto3\n",
    "import time\n",
    "\n",
    "client = boto3.client('stepfunctions')\n",
    "\n",
    "# todo, copy the definition from the last exercise and paste it below. \n",
    "# Also change the names of step function, training job and processing job. \n",
    "\n",
    "run_time = int(time.time())\n",
    "\n",
    "\n",
    "definition = \"\"\"{\n",
    "  \"StartAt\": \"SageMaker pre-processing step 4\",\n",
    "  \"States\": {\n",
    "    \"SageMaker pre-processing step 4\": {\n",
    "      \"Resource\": \"arn:aws:states:::sagemaker:createProcessingJob.sync\",\n",
    "      \"Parameters\": {\n",
    "        \"ProcessingJobName\": \"PreprocessingJob-%s\",\n",
    "        \"ProcessingInputs\": [\n",
    "          {\n",
    "            \"InputName\": \"input-1\",\n",
    "            \"AppManaged\": false,\n",
    "            \"S3Input\": {\n",
    "              \"S3Uri\": \"s3://udacity-landingzone/lesson3-stepfunction/input/Toys_and_Games_5.json.zip\",\n",
    "              \"LocalPath\": \"/opt/ml/processing/input\",\n",
    "              \"S3DataType\": \"S3Prefix\",\n",
    "              \"S3InputMode\": \"File\",\n",
    "              \"S3DataDistributionType\": \"FullyReplicated\",\n",
    "              \"S3CompressionType\": \"None\"\n",
    "            }\n",
    "          },\n",
    "          {\n",
    "            \"InputName\": \"code\",\n",
    "            \"AppManaged\": false,\n",
    "            \"S3Input\": {\n",
    "              \"S3Uri\": \"s3://udacity-landingzone/lesson3-stepfunction/script/HelloBlazePreprocess.py\",\n",
    "              \"LocalPath\": \"/opt/ml/processing/input/script\",\n",
    "              \"S3DataType\": \"S3Prefix\",\n",
    "              \"S3InputMode\": \"File\",\n",
    "              \"S3DataDistributionType\": \"FullyReplicated\",\n",
    "              \"S3CompressionType\": \"None\"\n",
    "            }\n",
    "          }\n",
    "        ],\n",
    "        \"ProcessingOutputConfig\": {\n",
    "          \"Outputs\": [\n",
    "            {\n",
    "              \"OutputName\": \"train_data\",\n",
    "              \"AppManaged\": false,\n",
    "              \"S3Output\": {\n",
    "                \"S3Uri\": \"s3://udacity-landingzone/lesson3-stepfunction/output/Toys_and_Games_5.json.zip_train\",\n",
    "                \"LocalPath\": \"/opt/ml/processing/output/train\",\n",
    "                \"S3UploadMode\": \"EndOfJob\"\n",
    "              }\n",
    "            },\n",
    "            {\n",
    "              \"OutputName\": \"test_data\",\n",
    "              \"AppManaged\": false,\n",
    "              \"S3Output\": {\n",
    "                \"S3Uri\": \"s3://udacity-landingzone/lesson3-stepfunction/output/Toys_and_Games_5.json.zip_test\",\n",
    "                \"LocalPath\": \"/opt/ml/processing/output/test\",\n",
    "                \"S3UploadMode\": \"EndOfJob\"\n",
    "              }\n",
    "            }\n",
    "          ]\n",
    "        },\n",
    "        \"AppSpecification\": {\n",
    "          \"ImageUri\": \"683313688378.dkr.ecr.us-east-1.amazonaws.com/sagemaker-scikit-learn:0.20.0-cpu-py3\",\n",
    "          \"ContainerEntrypoint\": [\n",
    "            \"python3\",\n",
    "            \"/opt/ml/processing/input/script/HelloBlazePreprocess.py\"\n",
    "          ]\n",
    "        },\n",
    "        \"RoleArn\": \"arn:aws:iam::002427974286:role/UdacitySageMakerStepFunctionExecutionRole\",\n",
    "        \"ProcessingResources\": {\n",
    "          \"ClusterConfig\": {\n",
    "            \"InstanceCount\": 1,\n",
    "            \"InstanceType\": \"ml.m5.large\",\n",
    "            \"VolumeSizeInGB\": 30\n",
    "          }\n",
    "        }\n",
    "      },\n",
    "      \"Type\": \"Task\",\n",
    "      \"Next\": \"SageMaker Training Step\"\n",
    "    },\n",
    "    \"SageMaker Training Step\": {\n",
    "      \"Resource\": \"arn:aws:states:::sagemaker:createTrainingJob.sync\",\n",
    "      \"Parameters\": {\n",
    "        \"AlgorithmSpecification\": {\n",
    "          \"TrainingImage\": \"811284229777.dkr.ecr.us-east-1.amazonaws.com/blazingtext:1\",\n",
    "          \"TrainingInputMode\": \"File\"\n",
    "        },\n",
    "        \"OutputDataConfig\": {\n",
    "          \"S3OutputPath\": \"s3://udacity-landingzone/lesson3-stepfunction/workflow/\"\n",
    "        },\n",
    "        \"StoppingCondition\": {\n",
    "          \"MaxRuntimeInSeconds\": 360000\n",
    "        },\n",
    "        \"ResourceConfig\": {\n",
    "          \"VolumeSizeInGB\": 30,\n",
    "          \"InstanceCount\": 1,\n",
    "          \"InstanceType\": \"ml.m5.large\"\n",
    "        },\n",
    "        \"RoleArn\": \"arn:aws:iam::002427974286:role/UdacitySageMakerStepFunctionExecutionRole\",\n",
    "        \"InputDataConfig\": [\n",
    "          {\n",
    "            \"DataSource\": {\n",
    "              \"S3DataSource\": {\n",
    "                \"S3DataType\": \"S3Prefix\",\n",
    "                \"S3Uri\": \"s3://udacity-landingzone/lesson3-stepfunction/output/Toys_and_Games_5.json.zip_train\",\n",
    "                \"S3DataDistributionType\": \"FullyReplicated\"\n",
    "              }\n",
    "            },\n",
    "            \"ContentType\": \"text/plain\",\n",
    "            \"ChannelName\": \"train\"\n",
    "          },\n",
    "          {\n",
    "            \"DataSource\": {\n",
    "              \"S3DataSource\": {\n",
    "                \"S3DataType\": \"S3Prefix\",\n",
    "                \"S3Uri\": \"s3://udacity-landingzone/lesson3-stepfunction/output/Toys_and_Games_5.json.zip_test\",\n",
    "                \"S3DataDistributionType\": \"FullyReplicated\"\n",
    "              }\n",
    "            },\n",
    "            \"ContentType\": \"text/plain\",\n",
    "            \"ChannelName\": \"validation\"\n",
    "          }\n",
    "        ],\n",
    "        \"HyperParameters\": {\n",
    "          \"mode\": \"supervised\"\n",
    "        },\n",
    "        \"TrainingJobName\": \"TrainingJob-%s\",\n",
    "        \"DebugHookConfig\": {\n",
    "          \"S3OutputPath\": \"s3://udacity-landingzone/lesson3-stepfunction/workflow/\"\n",
    "        }\n",
    "      },\n",
    "      \"Type\": \"Task\",\n",
    "      \"End\": true\n",
    "    }\n",
    "  }\n",
    "}\n",
    "\"\"\" % (run_time, run_time)\n",
    "\n",
    "\n",
    "with open(\"definition_payload.txt\", \"w\") as file:\n",
    "    file.write(f\"\"\"{{\n",
    "        \"definition\": {definition}\n",
    "    }}\n",
    "    \"\"\")"
   ]
  },
  {
   "cell_type": "code",
   "execution_count": 28,
   "id": "136167b7-2678-4359-a3e6-4ef8a5d635f6",
   "metadata": {},
   "outputs": [
    {
     "name": "stdout",
     "output_type": "stream",
     "text": [
      "Overwriting lambda_function.py\n"
     ]
    }
   ],
   "source": [
    "%%writefile lambda_function.py\n",
    "def lambda_handler(event, context):\n",
    "    import boto3\n",
    "    import time\n",
    "    import json\n",
    "    import uuid\n",
    "\n",
    " \n",
    "    # Connecto to service\n",
    "    client = boto3.client(\"stepfunctions\")\n",
    "\n",
    "    print(\"DEBUG event\", event)\n",
    "    definition = event[\"definition\"]\n",
    "    definition_json = json.dumps(definition)\n",
    "    print(\"DEBUG definition\", definition_json)\n",
    "    \n",
    "    execution_name = \"LambdaExecution-\" + str(uuid.uuid4())\n",
    "\n",
    "    # Update existing state machine\n",
    "    state_machine_arn = \"arn:aws:states:us-east-1:002427974286:stateMachine:workflow-stepfunction-processing\"\n",
    "    \n",
    "    try:\n",
    "        client.update_state_machine(definition=definition, stateMachineArn=state_machine_arn) \n",
    "    except:\n",
    "        client.update_state_machine(definition=definition_json, stateMachineArn=state_machine_arn) \n",
    "    \n",
    "    # Give AWS time to register the defintion\n",
    "    time.sleep(5)\n",
    "    \n",
    "    # Start the execution\n",
    "    client.start_execution(input='{}', name=execution_name, stateMachineArn=state_machine_arn) \n",
    "    \n",
    "    return {\n",
    "        'statusCode': 200,\n",
    "        'body': 'The step function has successfully launched!'\n",
    "    }\n"
   ]
  },
  {
   "cell_type": "code",
   "execution_count": 29,
   "id": "c5ba0b68-c630-46eb-a691-4a3fbf5933ff",
   "metadata": {},
   "outputs": [
    {
     "name": "stdout",
     "output_type": "stream",
     "text": [
      "Reading package lists... Done\n",
      "Building dependency tree... Done\n",
      "Reading state information... Done\n",
      "zip is already the newest version (3.0-12build2).\n",
      "0 upgraded, 0 newly installed, 0 to remove and 0 not upgraded.\n"
     ]
    }
   ],
   "source": [
    "!sudo apt install zip"
   ]
  },
  {
   "cell_type": "code",
   "execution_count": 30,
   "id": "c438f049-85c5-4863-9095-333706c4383f",
   "metadata": {},
   "outputs": [
    {
     "name": "stdout",
     "output_type": "stream",
     "text": [
      "updating: lambda_function.py (deflated 44%)\n"
     ]
    }
   ],
   "source": [
    "!zip lambda_function.zip lambda_function.py"
   ]
  },
  {
   "cell_type": "markdown",
   "id": "966f5b08",
   "metadata": {},
   "source": [
    "## Exercise: Launch the Lambda Function\n"
   ]
  },
  {
   "cell_type": "markdown",
   "id": "1abd804d",
   "metadata": {},
   "source": [
    "Launch the lambda function and confirm the step function is created successfully."
   ]
  },
  {
   "cell_type": "code",
   "execution_count": 31,
   "id": "16ed4aaa-e0c1-481e-9df3-93260a6b882e",
   "metadata": {},
   "outputs": [
    {
     "name": "stdout",
     "output_type": "stream",
     "text": [
      "Lambda function SepFunctionExecutor already exists. Invoking the function...\n",
      "Lambda function SepFunctionExecutor invoked successfully.\n",
      "Response: b''\n"
     ]
    }
   ],
   "source": [
    "import boto3\n",
    "import json\n",
    "\n",
    "lambda_client = boto3.client(\"lambda\")\n",
    "\n",
    "role_arn = \"arn:aws:iam::002427974286:role/UdacityLambdaS3FullAccess\"\n",
    "function_name = \"SepFunctionExecutor\"\n",
    "\n",
    "# Check if the Lambda function already exists\n",
    "def lambda_exists(function_name):\n",
    "    try:\n",
    "        lambda_client.get_function(FunctionName=function_name)\n",
    "        return True\n",
    "    except lambda_client.exceptions.ResourceNotFoundException:\n",
    "        return False\n",
    "\n",
    "# Invoke the Lambda function\n",
    "def invoke_lambda(function_name, payload):\n",
    "    try:\n",
    "        response = lambda_client.invoke(\n",
    "            FunctionName=function_name,\n",
    "            InvocationType='Event',  # Change to 'Event' if you want async execution\n",
    "            Payload=json.dumps(payload)\n",
    "        )\n",
    "        # Read and process the response from the Lambda function\n",
    "        response_payload = response['Payload'].read()\n",
    "        print(f\"Lambda function {function_name} invoked successfully.\")\n",
    "        print(f\"Response: {response_payload}\")\n",
    "    except Exception as e:\n",
    "        print(f\"Error invoking Lambda function: {e}\")\n",
    "\n",
    "# Create Lambda function\n",
    "def create_lambda():\n",
    "    try:\n",
    "        response = lambda_client.create_function(\n",
    "            FunctionName=function_name,\n",
    "            Runtime='python3.8',  # You can change the runtime\n",
    "            Role=role_arn,  # The role that Lambda assumes when it executes the function\n",
    "            Handler='lambda_function.lambda_handler',  # This refers to the function in the code\n",
    "            Code={\n",
    "                'ZipFile': open('lambda_function.zip', 'rb').read(),\n",
    "            },\n",
    "            Description='A simple hello world Lambda function',\n",
    "            Timeout=15,  # Time the function can run (in seconds)\n",
    "            MemorySize=128,  # Memory size (in MB)\n",
    "            Publish=True,  # Whether to publish the function right away\n",
    "        )\n",
    "\n",
    "        print(f\"Lambda function {function_name} created successfully\")\n",
    "        print(response)\n",
    "    except Exception as e:\n",
    "        print(f\"Error creating Lambda function: {e}\")\n",
    "\n",
    "# Main flow\n",
    "if lambda_exists(function_name):\n",
    "    print(f\"Lambda function {function_name} already exists. Invoking the function...\")\n",
    "    # Example payload to send to the Lambda function\n",
    "    payload = {\n",
    "        \"definition\": definition\n",
    "    }\n",
    "    invoke_lambda(function_name, payload)\n",
    "else:\n",
    "    print(f\"Lambda function {function_name} does not exist. Creating the function...\")\n",
    "    create_lambda()\n"
   ]
  },
  {
   "cell_type": "code",
   "execution_count": 32,
   "id": "6ab7d71e-d1fc-4e4a-b13e-140c626677af",
   "metadata": {},
   "outputs": [
    {
     "name": "stdout",
     "output_type": "stream",
     "text": [
      "{\n",
      "  \"StartAt\": \"SageMaker pre-processing step 4\",\n",
      "  \"States\": {\n",
      "    \"SageMaker pre-processing step 4\": {\n",
      "      \"Resource\": \"arn:aws:states:::sagemaker:createProcessingJob.sync\",\n",
      "      \"Parameters\": {\n",
      "        \"ProcessingJobName\": \"PreprocessingJob-1728147394\",\n",
      "        \"ProcessingInputs\": [\n",
      "          \n"
     ]
    }
   ],
   "source": [
    "print(definition[:300])"
   ]
  },
  {
   "cell_type": "code",
   "execution_count": 40,
   "id": "66a6273a-606c-4cfc-8362-db1611287ca0",
   "metadata": {},
   "outputs": [
    {
     "name": "stdout",
     "output_type": "stream",
     "text": [
      "{\n",
      "    \"StatusCode\": 200,\n",
      "    \"ExecutedVersion\": \"$LATEST\"\n",
      "}\n"
     ]
    }
   ],
   "source": [
    "!aws lambda invoke --function-name SepFunctionExecutor --payload file://definition_payload.txt response.json --cli-binary-format raw-in-base64-out"
   ]
  },
  {
   "cell_type": "markdown",
   "id": "d8b6b4d5",
   "metadata": {},
   "source": [
    "## Conceptual Exercise: What are next steps? "
   ]
  },
  {
   "cell_type": "markdown",
   "id": "fb29a82d",
   "metadata": {},
   "source": [
    "Right now, the Step Function that we made in the prior exercise has a hard-coded location of the dataset we input, as well as all of the locations of the intermediary steps. What are ways that you could modify the Step Function to make it more generalizable? If you could input an S3 location, how could you integrate it with Lambda so that it could asychronously be called? "
   ]
  }
 ],
 "metadata": {
  "kernelspec": {
   "display_name": "Python 3 (ipykernel)",
   "language": "python",
   "name": "python3"
  },
  "language_info": {
   "codemirror_mode": {
    "name": "ipython",
    "version": 3
   },
   "file_extension": ".py",
   "mimetype": "text/x-python",
   "name": "python",
   "nbconvert_exporter": "python",
   "pygments_lexer": "ipython3",
   "version": "3.11.9"
  }
 },
 "nbformat": 4,
 "nbformat_minor": 5
}
